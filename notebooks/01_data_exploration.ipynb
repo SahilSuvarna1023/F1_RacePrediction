{
 "cells": [
  {
   "cell_type": "code",
   "execution_count": null,
   "metadata": {},
   "outputs": [],
   "source": [
    "\n",
    "import pandas as pd\n",
    "import matplotlib.pyplot as plt\n",
    "import seaborn as sns\n",
    "import os\n",
    "\n",
    "\n",
    "sns.set_style(\"darkgrid\")\n",
    "\n",
    "\n",
    "CLEANED_DATA_PATH = \"../data/cleaned/\"\n",
    "\n",
    "\n",
    "available_files = os.listdir(CLEANED_DATA_PATH)\n",
    "print(\"Available Cleaned Data Files:\", available_files)\n",
    "\n",
    "\n",
    "file_names = [\n",
    "    \"circuits_cleaned.csv\", \"constructor_results_cleaned.csv\",\n",
    "    \"constructor_standings_cleaned.csv\", \"constructors_cleaned.csv\",\n",
    "    \"driver_standings_cleaned.csv\", \"drivers_cleaned.csv\",\n",
    "    \"lap_times_cleaned.csv\", \"pit_stops_cleaned.csv\",\n",
    "    \"qualifying_cleaned.csv\", \"races_cleaned.csv\",\n",
    "    \"results_cleaned.csv\", \"seasons_cleaned.csv\",\n",
    "    \"sprint_results_cleaned.csv\", \"status_cleaned.csv\"\n",
    "]\n",
    "\n",
    "\n",
    "dataframes = {}\n",
    "for file in file_names:\n",
    "    file_path = os.path.join(CLEANED_DATA_PATH, file)\n",
    "    if os.path.exists(file_path):\n",
    "        df_name = file.replace(\"_cleaned.csv\", \"\")\n",
    "        dataframes[df_name] = pd.read_csv(file_path)\n",
    "        print(f\" Loaded {df_name} dataset with shape {dataframes[df_name].shape}\")\n",
    "    else:\n",
    "        print(f\" Warning: {file} not found!\")\n",
    "\n",
    "dataframes['races'].head(), dataframes['drivers'].head(), dataframes['results'].head()\n"
   ]
  },
  {
   "cell_type": "code",
   "execution_count": null,
   "metadata": {},
   "outputs": [],
   "source": [
    "\n",
    "dataframes['results'].describe()\n"
   ]
  },
  {
   "cell_type": "code",
   "execution_count": null,
   "metadata": {},
   "outputs": [],
   "source": [
    "\n",
    "missing_values = {name: df.isnull().sum().sum() for name, df in dataframes.items()}\n",
    "missing_values_df = pd.DataFrame(list(missing_values.items()), columns=['Dataset', 'Missing Values'])\n",
    "missing_values_df.sort_values(by=\"Missing Values\", ascending=False)\n"
   ]
  },
  {
   "cell_type": "code",
   "execution_count": null,
   "metadata": {},
   "outputs": [],
   "source": [
    "\n",
    "import numpy as np\n",
    "\n",
    "constructor_wins = dataframes['constructor_standings'].groupby([\"constructorId\"])[\"wins\"].sum().sort_values(ascending=False).head(10)\n",
    "\n",
    "plt.figure(figsize=(12, 6))\n",
    "sns.lineplot(x=np.arange(len(constructor_wins)), y=constructor_wins.values, marker=\"o\", color=\"blue\")\n",
    "plt.xticks(np.arange(len(constructor_wins)), constructor_wins.index, rotation=45)\n",
    "plt.title(\"Top 10 Constructors by Total Wins\")\n",
    "plt.xlabel(\"Constructor ID\")\n",
    "plt.ylabel(\"Total Wins\")\n",
    "plt.show()\n"
   ]
  },
  {
   "cell_type": "code",
   "execution_count": null,
   "metadata": {},
   "outputs": [],
   "source": [
    "top_drivers = dataframes['driver_standings'].groupby(\"driverId\")[\"wins\"].sum().sort_values(ascending=False).head(10)\n",
    "\n",
    "plt.figure(figsize=(10, 5))\n",
    "sns.barplot(x=top_drivers.index, y=top_drivers.values, palette=\"magma\")\n",
    "plt.title(\"Top 10 Drivers by Wins\")\n",
    "plt.xlabel(\"Driver ID\")\n",
    "plt.ylabel(\"Total Wins\")\n",
    "plt.show()\n"
   ]
  },
  {
   "cell_type": "code",
   "execution_count": null,
   "metadata": {},
   "outputs": [],
   "source": [
    "\n",
    "# import seaborn as sns\n",
    "# import matplotlib.pyplot as plt\n",
    "\n",
    "# plt.figure(figsize=(8, 6))\n",
    "# heatmap_data = dataframes['results'][['grid', 'positionOrder']].corr()\n",
    "# sns.heatmap(heatmap_data, annot=True, cmap=\"coolwarm\", fmt=\".2f\")\n",
    "# plt.title(\"Correlation Between Starting Grid & Final Position\")\n",
    "# plt.show()\n"
   ]
  },
  {
   "cell_type": "code",
   "execution_count": null,
   "metadata": {},
   "outputs": [],
   "source": [
    "\n",
    "\n",
    "# dataframes['lap_times']['milliseconds'] = pd.to_numeric(dataframes['lap_times']['milliseconds'], errors='coerce')\n",
    "\n",
    "# sampled_lap_times = dataframes['lap_times'].sample(500)\n",
    "\n",
    "# plt.figure(figsize=(12, 6))\n",
    "# sns.swarmplot(x=sampled_lap_times[\"driverId\"], y=sampled_lap_times[\"milliseconds\"], palette=\"viridis\", alpha=0.5)\n",
    "# plt.xticks(rotation=90)\n",
    "# plt.title(\"Lap Time Distribution by Driver\")\n",
    "# plt.xlabel(\"Driver ID\")\n",
    "# plt.ylabel(\"Lap Time (ms)\")\n",
    "# plt.show()\n"
   ]
  },
  {
   "cell_type": "markdown",
   "metadata": {},
   "source": [
    "Pit Stop Strategy Impact on Race Results"
   ]
  },
  {
   "cell_type": "code",
   "execution_count": null,
   "metadata": {},
   "outputs": [],
   "source": [
    "\n",
    "# plt.figure(figsize=(12, 6))\n",
    "# sns.boxplot(x=dataframes['pit_stops']['stop'], y=dataframes['results']['positionOrder'], palette=\"coolwarm\")\n",
    "# plt.title(\"Effect of Pit Stops on Finishing Position\")\n",
    "# plt.xlabel(\"Number of Pit Stops\")\n",
    "# plt.ylabel(\"Finishing Position\")\n",
    "# plt.show()\n"
   ]
  },
  {
   "cell_type": "code",
   "execution_count": null,
   "metadata": {},
   "outputs": [],
   "source": [
    "\n",
    "# top_drivers = dataframes['driver_standings'].groupby(\"driverId\")[\"points\"].sum().sort_values(ascending=False).head(10)\n",
    "\n",
    "# plt.figure(figsize=(10, 5))\n",
    "# sns.barplot(x=top_drivers.index, y=top_drivers.values, palette=\"coolwarm\")\n",
    "# plt.title(\"Top 10 Drivers by Total Points\")\n",
    "# plt.xlabel(\"Driver ID\")\n",
    "# plt.ylabel(\"Total Points Earned\")\n",
    "# plt.show()\n"
   ]
  },
  {
   "cell_type": "code",
   "execution_count": null,
   "metadata": {},
   "outputs": [],
   "source": [
    "\n",
    "# plt.figure(figsize=(12, 6))\n",
    "# wins_by_constructor = dataframes['constructor_standings'].groupby(\"constructorId\")[\"wins\"].sum().sort_values(ascending=False)\n",
    "# sns.barplot(x=wins_by_constructor.index, y=wins_by_constructor.values, palette=\"Blues_r\")\n",
    "# plt.title(\"Total Race Wins by Constructor\")\n",
    "# plt.xlabel(\"Constructor ID\")\n",
    "# plt.ylabel(\"Wins\")\n",
    "# plt.xticks(rotation=90)\n",
    "# plt.show()\n"
   ]
  },
  {
   "cell_type": "code",
   "execution_count": null,
   "metadata": {},
   "outputs": [],
   "source": [
    "\n",
    "# plt.figure(figsize=(8, 6))\n",
    "# sns.scatterplot(x=dataframes['results']['grid'], y=dataframes['results']['positionOrder'], alpha=0.5)\n",
    "# plt.title(\"Finishing Position vs. Starting Grid Position\")\n",
    "# plt.xlabel(\"Starting Grid Position\")\n",
    "# plt.ylabel(\"Finishing Position\")\n",
    "# plt.show()\n"
   ]
  },
  {
   "cell_type": "code",
   "execution_count": null,
   "metadata": {},
   "outputs": [],
   "source": [
    "\n",
    "\n",
    "\n",
    "# dataframes['lap_times']['milliseconds'] = pd.to_numeric(dataframes['lap_times']['milliseconds'], errors='coerce')\n",
    "\n",
    "\n",
    "# avg_lap_times = dataframes['lap_times'].groupby(\"driverId\")[\"milliseconds\"].mean().sort_values().head(10)\n",
    "\n",
    "# plt.figure(figsize=(12, 6))\n",
    "# sns.barplot(x=avg_lap_times.index, y=avg_lap_times.values, palette=\"coolwarm\")\n",
    "# plt.title(\"Top 10 Fastest Drivers by Average Lap Time\")\n",
    "# plt.xlabel(\"Driver ID\")\n",
    "# plt.ylabel(\"Average Lap Time (ms)\")\n",
    "# plt.show()\n"
   ]
  },
  {
   "cell_type": "code",
   "execution_count": null,
   "metadata": {},
   "outputs": [],
   "source": [
    "\n",
    "# pit_stops_per_driver = dataframes['pit_stops'].groupby(\"driverId\")[\"stop\"].count().sort_values(ascending=False).head(10)\n",
    "\n",
    "# plt.figure(figsize=(12, 6))\n",
    "# sns.barplot(x=pit_stops_per_driver.index, y=pit_stops_per_driver.values, palette=\"coolwarm\")\n",
    "# plt.title(\"Top 10 Drivers with Most Pit Stops\")\n",
    "# plt.xlabel(\"Driver ID\")\n",
    "# plt.ylabel(\"Total Pit Stops\")\n",
    "# plt.xticks(rotation=45)\n",
    "# plt.show()\n"
   ]
  }
 ],
 "metadata": {
  "kernelspec": {
   "display_name": "venv",
   "language": "python",
   "name": "python3"
  },
  "language_info": {
   "codemirror_mode": {
    "name": "ipython",
    "version": 3
   },
   "file_extension": ".py",
   "mimetype": "text/x-python",
   "name": "python",
   "nbconvert_exporter": "python",
   "pygments_lexer": "ipython3",
   "version": "3.13.0"
  }
 },
 "nbformat": 4,
 "nbformat_minor": 2
}
