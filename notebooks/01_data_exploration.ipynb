{
 "cells": [
  {
   "cell_type": "markdown",
   "metadata": {},
   "source": [
    "Load Cleaned Data"
   ]
  },
  {
   "cell_type": "code",
   "execution_count": null,
   "metadata": {},
   "outputs": [],
   "source": [
    "# Import necessary libraries\n",
    "import pandas as pd\n",
    "import matplotlib.pyplot as plt\n",
    "import seaborn as sns\n",
    "import os\n",
    "\n",
    "# Set plot style\n",
    "sns.set_style(\"darkgrid\")\n",
    "\n",
    "# Define cleaned data path\n",
    "CLEANED_DATA_PATH = \"../data/cleaned/\"\n",
    "\n",
    "# List available cleaned files\n",
    "available_files = os.listdir(CLEANED_DATA_PATH)\n",
    "print(\"Available Cleaned Data Files:\", available_files)\n",
    "\n",
    "# Load cleaned datasets\n",
    "file_names = [\n",
    "    \"circuits_cleaned.csv\", \"constructor_results_cleaned.csv\",\n",
    "    \"constructor_standings_cleaned.csv\", \"constructors_cleaned.csv\",\n",
    "    \"driver_standings_cleaned.csv\", \"drivers_cleaned.csv\",\n",
    "    \"lap_times_cleaned.csv\", \"pit_stops_cleaned.csv\",\n",
    "    \"qualifying_cleaned.csv\", \"races_cleaned.csv\",\n",
    "    \"results_cleaned.csv\", \"seasons_cleaned.csv\",\n",
    "    \"sprint_results_cleaned.csv\", \"status_cleaned.csv\"\n",
    "]\n",
    "\n",
    "# Load datasets into a dictionary\n",
    "dataframes = {}\n",
    "for file in file_names:\n",
    "    file_path = os.path.join(CLEANED_DATA_PATH, file)\n",
    "    if os.path.exists(file_path):\n",
    "        df_name = file.replace(\"_cleaned.csv\", \"\")\n",
    "        dataframes[df_name] = pd.read_csv(file_path)\n",
    "        print(f\"✅ Loaded {df_name} dataset with shape {dataframes[df_name].shape}\")\n",
    "    else:\n",
    "        print(f\"⚠️ Warning: {file} not found!\")\n",
    "\n",
    "# Show first few rows of key datasets\n",
    "dataframes['races'].head(), dataframes['drivers'].head(), dataframes['results'].head()\n"
   ]
  },
  {
   "cell_type": "markdown",
   "metadata": {},
   "source": [
    "Perform Summary Statistics"
   ]
  },
  {
   "cell_type": "code",
   "execution_count": null,
   "metadata": {},
   "outputs": [],
   "source": [
    "# Summary statistics of race results\n",
    "dataframes['results'].describe()\n"
   ]
  },
  {
   "cell_type": "markdown",
   "metadata": {},
   "source": [
    "Checking missing values"
   ]
  },
  {
   "cell_type": "code",
   "execution_count": null,
   "metadata": {},
   "outputs": [],
   "source": [
    "# Check missing values in all datasets\n",
    "missing_values = {name: df.isnull().sum().sum() for name, df in dataframes.items()}\n",
    "missing_values_df = pd.DataFrame(list(missing_values.items()), columns=['Dataset', 'Missing Values'])\n",
    "missing_values_df.sort_values(by=\"Missing Values\", ascending=False)\n"
   ]
  },
  {
   "cell_type": "markdown",
   "metadata": {},
   "source": [
    "Relationship Between Starting Grid Position & Final Race Position"
   ]
  },
  {
   "cell_type": "code",
   "execution_count": null,
   "metadata": {},
   "outputs": [],
   "source": [
    "import seaborn as sns\n",
    "import matplotlib.pyplot as plt\n",
    "\n",
    "plt.figure(figsize=(8, 6))\n",
    "heatmap_data = dataframes['results'][['grid', 'positionOrder']].corr()\n",
    "sns.heatmap(heatmap_data, annot=True, cmap=\"coolwarm\", fmt=\".2f\")\n",
    "plt.title(\"Correlation Between Starting Grid & Final Position\")\n",
    "plt.show()\n"
   ]
  },
  {
   "cell_type": "markdown",
   "metadata": {},
   "source": [
    "Top 10 Drivers with the Most Wins"
   ]
  },
  {
   "cell_type": "code",
   "execution_count": null,
   "metadata": {},
   "outputs": [],
   "source": [
    "top_drivers = dataframes['driver_standings'].groupby(\"driverId\")[\"wins\"].sum().sort_values(ascending=False).head(10)\n",
    "\n",
    "plt.figure(figsize=(12, 6))\n",
    "ax = sns.barplot(x=top_drivers.values, y=top_drivers.index, palette=\"magma\")\n",
    "plt.title(\"Top 10 Drivers by Total Wins\")\n",
    "plt.xlabel(\"Total Wins\")\n",
    "plt.ylabel(\"Driver ID\")\n",
    "\n",
    "# Add annotations\n",
    "for i, v in enumerate(top_drivers.values):\n",
    "    ax.text(v + 2, i, str(v), color='black', va='center')\n",
    "\n",
    "plt.show()\n"
   ]
  },
  {
   "cell_type": "markdown",
   "metadata": {},
   "source": [
    "Constructor (Team) Dominance Over Time"
   ]
  },
  {
   "cell_type": "code",
   "execution_count": null,
   "metadata": {},
   "outputs": [],
   "source": [
    "import numpy as np\n",
    "\n",
    "constructor_wins = dataframes['constructor_standings'].groupby([\"constructorId\"])[\"wins\"].sum().sort_values(ascending=False).head(10)\n",
    "\n",
    "plt.figure(figsize=(12, 6))\n",
    "sns.lineplot(x=np.arange(len(constructor_wins)), y=constructor_wins.values, marker=\"o\", color=\"blue\")\n",
    "plt.xticks(np.arange(len(constructor_wins)), constructor_wins.index, rotation=45)\n",
    "plt.title(\"Top 10 Constructors by Total Wins\")\n",
    "plt.xlabel(\"Constructor ID\")\n",
    "plt.ylabel(\"Total Wins\")\n",
    "plt.show()\n"
   ]
  },
  {
   "cell_type": "markdown",
   "metadata": {},
   "source": [
    "Fastest Drivers Based on Average Lap Time"
   ]
  },
  {
   "cell_type": "code",
   "execution_count": null,
   "metadata": {},
   "outputs": [],
   "source": [
    "# Convert lap times to numeric format\n",
    "dataframes['lap_times']['milliseconds'] = pd.to_numeric(dataframes['lap_times']['milliseconds'], errors='coerce')\n",
    "\n",
    "# Get 500 random lap times for better visualization\n",
    "sampled_lap_times = dataframes['lap_times'].sample(500)\n",
    "\n",
    "plt.figure(figsize=(12, 6))\n",
    "sns.swarmplot(x=sampled_lap_times[\"driverId\"], y=sampled_lap_times[\"milliseconds\"], palette=\"viridis\", alpha=0.5)\n",
    "plt.xticks(rotation=90)\n",
    "plt.title(\"Lap Time Distribution by Driver\")\n",
    "plt.xlabel(\"Driver ID\")\n",
    "plt.ylabel(\"Lap Time (ms)\")\n",
    "plt.show()\n"
   ]
  },
  {
   "cell_type": "markdown",
   "metadata": {},
   "source": [
    "Pit Stop Strategy Impact on Race Results"
   ]
  },
  {
   "cell_type": "code",
   "execution_count": 31,
   "metadata": {},
   "outputs": [
    {
     "name": "stderr",
     "output_type": "stream",
     "text": [
      "C:\\Users\\hp\\AppData\\Local\\Temp\\ipykernel_3492\\2922144009.py:2: FutureWarning: \n",
      "\n",
      "Passing `palette` without assigning `hue` is deprecated and will be removed in v0.14.0. Assign the `x` variable to `hue` and set `legend=False` for the same effect.\n",
      "\n",
      "  sns.boxplot(x=dataframes['pit_stops']['stop'], y=dataframes['results']['positionOrder'], palette=\"coolwarm\")\n"
     ]
    },
    {
     "data": {
      "image/png": "[encoded data removed]",
      "text/plain": [
       "<Figure size 1200x600 with 1 Axes>"
      ]
     },
     "metadata": {},
     "output_type": "display_data"
    }
   ],
   "source": [
    "plt.figure(figsize=(12, 6))\n",
    "sns.boxplot(x=dataframes['pit_stops']['stop'], y=dataframes['results']['positionOrder'], palette=\"coolwarm\")\n",
    "plt.title(\"Effect of Pit Stops on Finishing Position\")\n",
    "plt.xlabel(\"Number of Pit Stops\")\n",
    "plt.ylabel(\"Finishing Position\")\n",
    "plt.show()\n"
   ]
  },
  {
   "cell_type": "markdown",
   "metadata": {},
   "source": [
    "Top 10 Drivers by Total Points"
   ]
  },
  {
   "cell_type": "code",
   "execution_count": null,
   "metadata": {},
   "outputs": [],
   "source": [
    "# Top drivers based on total points\n",
    "# top_drivers = dataframes['driver_standings'].groupby(\"driverId\")[\"points\"].sum().sort_values(ascending=False).head(10)\n",
    "\n",
    "# plt.figure(figsize=(10, 5))\n",
    "# sns.barplot(x=top_drivers.index, y=top_drivers.values, palette=\"coolwarm\")\n",
    "# plt.title(\"Top 10 Drivers by Total Points\")\n",
    "# plt.xlabel(\"Driver ID\")\n",
    "# plt.ylabel(\"Total Points Earned\")\n",
    "# plt.show()\n"
   ]
  },
  {
   "cell_type": "markdown",
   "metadata": {},
   "source": [
    "Total Race Wins by Constructor"
   ]
  },
  {
   "cell_type": "code",
   "execution_count": null,
   "metadata": {},
   "outputs": [],
   "source": [
    "# plt.figure(figsize=(12, 6))\n",
    "# wins_by_constructor = dataframes['constructor_standings'].groupby(\"constructorId\")[\"wins\"].sum().sort_values(ascending=False)\n",
    "# sns.barplot(x=wins_by_constructor.index, y=wins_by_constructor.values, palette=\"Blues_r\")\n",
    "# plt.title(\"Total Race Wins by Constructor\")\n",
    "# plt.xlabel(\"Constructor ID\")\n",
    "# plt.ylabel(\"Wins\")\n",
    "# plt.xticks(rotation=90)\n",
    "# plt.show()\n"
   ]
  },
  {
   "cell_type": "markdown",
   "metadata": {},
   "source": [
    "Finishing Position vs. Qualifying Position"
   ]
  },
  {
   "cell_type": "code",
   "execution_count": null,
   "metadata": {},
   "outputs": [],
   "source": [
    "# plt.figure(figsize=(8, 6))\n",
    "# sns.scatterplot(x=dataframes['results']['grid'], y=dataframes['results']['positionOrder'], alpha=0.5)\n",
    "# plt.title(\"Finishing Position vs. Starting Grid Position\")\n",
    "# plt.xlabel(\"Starting Grid Position\")\n",
    "# plt.ylabel(\"Finishing Position\")\n",
    "# plt.show()\n"
   ]
  },
  {
   "cell_type": "markdown",
   "metadata": {},
   "source": [
    "Top 10 Drivers by Wins"
   ]
  },
  {
   "cell_type": "code",
   "execution_count": null,
   "metadata": {},
   "outputs": [],
   "source": [
    "# top_drivers = dataframes['driver_standings'].groupby(\"driverId\")[\"wins\"].sum().sort_values(ascending=False).head(10)\n",
    "\n",
    "# plt.figure(figsize=(10, 5))\n",
    "# sns.barplot(x=top_drivers.index, y=top_drivers.values, palette=\"magma\")\n",
    "# plt.title(\"Top 10 Drivers by Wins\")\n",
    "# plt.xlabel(\"Driver ID\")\n",
    "# plt.ylabel(\"Total Wins\")\n",
    "# plt.show()\n"
   ]
  },
  {
   "cell_type": "markdown",
   "metadata": {},
   "source": [
    "Constructor Dominance Over the Years"
   ]
  },
  {
   "cell_type": "code",
   "execution_count": null,
   "metadata": {},
   "outputs": [],
   "source": [
    "# Total race wins by constructor over time\n",
    "# constructor_wins = dataframes['constructor_standings'].groupby(\"constructorId\")[\"wins\"].sum().sort_values(ascending=False).head(10)\n",
    "\n",
    "# plt.figure(figsize=(12, 6))\n",
    "# sns.barplot(x=constructor_wins.index, y=constructor_wins.values, palette=\"viridis\")\n",
    "# plt.title(\"Top 10 Constructors by Total Wins\")\n",
    "# plt.xlabel(\"Constructor ID\")\n",
    "# plt.ylabel(\"Total Wins\")\n",
    "# plt.xticks(rotation=45)\n",
    "# plt.show()\n"
   ]
  },
  {
   "cell_type": "markdown",
   "metadata": {},
   "source": [
    "Relationship Between Qualifying Position & Race Finishing Position"
   ]
  },
  {
   "cell_type": "code",
   "execution_count": null,
   "metadata": {},
   "outputs": [],
   "source": [
    "# plt.figure(figsize=(8, 6))\n",
    "# sns.scatterplot(x=dataframes['results']['grid'], y=dataframes['results']['positionOrder'], alpha=0.5)\n",
    "# plt.title(\"Finishing Position vs. Starting Grid Position\")\n",
    "# plt.xlabel(\"Starting Grid Position\")\n",
    "# plt.ylabel(\"Finishing Position\")\n",
    "# plt.show()\n"
   ]
  },
  {
   "cell_type": "markdown",
   "metadata": {},
   "source": [
    "Lap Times Analysis"
   ]
  },
  {
   "cell_type": "code",
   "execution_count": null,
   "metadata": {},
   "outputs": [],
   "source": [
    "# Convert lap time to numeric format\n",
    "# dataframes['lap_times']['milliseconds'] = pd.to_numeric(dataframes['lap_times']['milliseconds'], errors='coerce')\n",
    "\n",
    "# # Average lap time per driver\n",
    "# avg_lap_times = dataframes['lap_times'].groupby(\"driverId\")[\"milliseconds\"].mean().sort_values().head(10)\n",
    "\n",
    "# plt.figure(figsize=(12, 6))\n",
    "# sns.barplot(x=avg_lap_times.index, y=avg_lap_times.values, palette=\"coolwarm\")\n",
    "# plt.title(\"Top 10 Fastest Drivers by Average Lap Time\")\n",
    "# plt.xlabel(\"Driver ID\")\n",
    "# plt.ylabel(\"Average Lap Time (ms)\")\n",
    "# plt.show()\n"
   ]
  },
  {
   "cell_type": "markdown",
   "metadata": {},
   "source": [
    " Pit Stop Strategy Impact"
   ]
  },
  {
   "cell_type": "code",
   "execution_count": null,
   "metadata": {},
   "outputs": [],
   "source": [
    "# Pit stops count per driver\n",
    "# pit_stops_per_driver = dataframes['pit_stops'].groupby(\"driverId\")[\"stop\"].count().sort_values(ascending=False).head(10)\n",
    "\n",
    "# plt.figure(figsize=(12, 6))\n",
    "# sns.barplot(x=pit_stops_per_driver.index, y=pit_stops_per_driver.values, palette=\"coolwarm\")\n",
    "# plt.title(\"Top 10 Drivers with Most Pit Stops\")\n",
    "# plt.xlabel(\"Driver ID\")\n",
    "# plt.ylabel(\"Total Pit Stops\")\n",
    "# plt.xticks(rotation=45)\n",
    "# plt.show()\n"
   ]
  }
 ],
 "metadata": {
  "kernelspec": {
   "display_name": "venv",
   "language": "python",
   "name": "python3"
  },
  "language_info": {
   "codemirror_mode": {
    "name": "ipython",
    "version": 3
   },
   "file_extension": ".py",
   "mimetype": "text/x-python",
   "name": "python",
   "nbconvert_exporter": "python",
   "pygments_lexer": "ipython3",
   "version": "3.13.0"
  }
 },
 "nbformat": 4,
 "nbformat_minor": 2
}
