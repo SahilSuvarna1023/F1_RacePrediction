{
 "cells": [
  {
   "cell_type": "code",
   "execution_count": null,
   "id": "8196d1b2",
   "metadata": {},
   "outputs": [],
   "source": [
    "# Import required libraries\n",
    "import matplotlib.pyplot as plt\n",
    "import pandas as pd\n",
    "import numpy as np"
   ]
  },
  {
   "cell_type": "code",
   "execution_count": null,
   "id": "af82f63a",
   "metadata": {},
   "outputs": [],
   "source": [
    "# ---------------------------------------------------\n",
    "#  FEATURE IMPORTANCE PLOT\n",
    "# ---------------------------------------------------\n",
    "\n",
    "# Simulated importance scores (use actual model values if available)\n",
    "features = [\"Grid\", \"Avg Team Points\", \"Driver Experience\", \"Constructor Points\", \"Laps\", \"Year\"]\n",
    "importances = [0.42, 0.21, 0.18, 0.07, 0.06, 0.03]\n"
   ]
  },
  {
   "cell_type": "code",
   "execution_count": null,
   "id": "85bf9c6c",
   "metadata": {},
   "outputs": [],
   "source": [
    "# Create DataFrame\n",
    "feature_df = pd.DataFrame({\n",
    "    \"Feature\": features,\n",
    "    \"Importance\": importances\n",
    "}).sort_values(by=\"Importance\", ascending=True)\n"
   ]
  },
  {
   "cell_type": "code",
   "execution_count": null,
   "id": "080e11e7",
   "metadata": {},
   "outputs": [],
   "source": [
    "# Plot\n",
    "plt.figure(figsize=(8, 5))\n",
    "plt.barh(feature_df[\"Feature\"], feature_df[\"Importance\"], color='skyblue')\n",
    "plt.xlabel(\"Importance Score\")\n",
    "plt.title(\"Feature Importance Plot (XGBoost Example)\")\n",
    "plt.grid(True, linestyle='--', alpha=0.6)\n",
    "plt.tight_layout()\n",
    "plt.show()"
   ]
  },
  {
   "cell_type": "code",
   "execution_count": null,
   "id": "c0a94b0f",
   "metadata": {},
   "outputs": [],
   "source": [
    "# RESIDUALS PLOT\n",
    "# ---------------------------------------------------\n",
    "\n",
    "# Simulate true vs predicted values (use model predictions in real project)\n",
    "np.random.seed(42)\n",
    "y_actual = np.random.randint(1, 21, size=50)\n",
    "y_predicted = y_actual + np.random.normal(0, 2, size=50)\n",
    "residuals = y_actual - y_predicted\n",
    "\n",
    "# Plot residuals\n",
    "plt.figure(figsize=(8, 5))\n",
    "plt.scatter(y_predicted, residuals, color='tomato', edgecolor='black')\n",
    "plt.axhline(y=0, color='gray', linestyle='--')\n",
    "plt.xlabel(\"Predicted Position\")\n",
    "plt.ylabel(\"Residual (Actual - Predicted)\")\n",
    "plt.title(\"Residuals Plot\")\n",
    "plt.grid(True, linestyle='--', alpha=0.6)\n",
    "plt.tight_layout()\n",
    "plt.show()"
   ]
  }
 ],
 "metadata": {
  "kernelspec": {
   "display_name": "venv",
   "language": "python",
   "name": "python3"
  },
  "language_info": {
   "codemirror_mode": {
    "name": "ipython",
    "version": 3
   },
   "file_extension": ".py",
   "mimetype": "text/x-python",
   "name": "python",
   "nbconvert_exporter": "python",
   "pygments_lexer": "ipython3",
   "version": "3.13.0"
  }
 },
 "nbformat": 4,
 "nbformat_minor": 5
}
