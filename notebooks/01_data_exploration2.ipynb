{
 "cells": [
  {
   "cell_type": "code",
   "execution_count": null,
   "metadata": {},
   "outputs": [],
   "source": [
    "import pandas as pd\n",
    "import matplotlib.pyplot as plt\n",
    "import seaborn as sns"
   ]
  },
  {
   "cell_type": "code",
   "execution_count": null,
   "metadata": {},
   "outputs": [],
   "source": [
    "# Load Merged Dataset\n",
    "DATA_PATH = \"../data/merged/cleaned_merged_data2.csv\"\n",
    "df = pd.read_csv(DATA_PATH)\n"
   ]
  },
  {
   "cell_type": "code",
   "execution_count": null,
   "metadata": {},
   "outputs": [],
   "source": [
    "# Select Relevant Columns for Analysis\n",
    "eda_features = [\"grid\", \"driver_experience\", \"avg_team_points\", \"laps\", \n",
    "                \"year\", \"constructor_standings\", \"constructor_points\", \"final_position\"]\n"
   ]
  },
  {
   "cell_type": "code",
   "execution_count": null,
   "metadata": {},
   "outputs": [],
   "source": [
    "df = df[eda_features]"
   ]
  },
  {
   "cell_type": "code",
   "execution_count": null,
   "metadata": {},
   "outputs": [],
   "source": [
    "# ---------------------- 🔹 Correlation Heatmap 🔹 ----------------------\n",
    "plt.figure(figsize=(8, 6))\n",
    "sns.heatmap(df.corr(), annot=True, cmap=\"coolwarm\", fmt=\".2f\")\n",
    "plt.title(\"Correlation Between Driver & Constructor Features with Race Performance\")\n",
    "plt.show()"
   ]
  },
  {
   "cell_type": "code",
   "execution_count": null,
   "metadata": {},
   "outputs": [],
   "source": [
    "# ---------------------- 🔹 Constructor Points vs. Race Position 🔹 ----------------------\n",
    "plt.figure(figsize=(8, 6))\n",
    "sns.scatterplot(x=df[\"constructor_points\"], y=df[\"final_position\"], color=\"red\")\n",
    "plt.title(\"Impact of Constructor Points on Race Position\")\n",
    "plt.xlabel(\"Constructor Points (Higher means better car)\")\n",
    "plt.ylabel(\"Final Race Position (Lower is better)\")\n",
    "plt.show()"
   ]
  },
  {
   "cell_type": "code",
   "execution_count": null,
   "metadata": {},
   "outputs": [],
   "source": [
    "# ---------------------- 🔹 Driver Experience vs. Race Position 🔹 ----------------------\n",
    "plt.figure(figsize=(8, 6))\n",
    "sns.scatterplot(x=df[\"driver_experience\"], y=df[\"final_position\"], color=\"blue\")\n",
    "plt.title(\"Impact of Driver Experience on Race Position\")\n",
    "plt.xlabel(\"Driver Experience (Years)\")\n",
    "plt.ylabel(\"Final Race Position (Lower is better)\")\n",
    "plt.show()\n"
   ]
  },
  {
   "cell_type": "code",
   "execution_count": null,
   "metadata": {},
   "outputs": [],
   "source": [
    "# ---------------------- 🔹 Box Plot: Constructor Performance vs. Position 🔹 ----------------------\n",
    "plt.figure(figsize=(10, 5))\n",
    "sns.boxplot(x=df[\"constructor_standings\"], y=df[\"final_position\"], palette=\"coolwarm\")\n",
    "plt.title(\"Constructor Standings vs. Final Race Position\")\n",
    "plt.xlabel(\"Constructor Standings (Lower is better)\")\n",
    "plt.ylabel(\"Final Race Position (Lower is better)\")\n",
    "plt.show()\n"
   ]
  },
  {
   "cell_type": "code",
   "execution_count": null,
   "metadata": {},
   "outputs": [],
   "source": [
    "# ---------------------- 🔹 Feature Distribution 🔹 ----------------------\n",
    "df.hist(figsize=(12, 8), bins=20)\n",
    "plt.suptitle(\"Feature Distributions in the Dataset\")\n",
    "plt.show()"
   ]
  }
 ],
 "metadata": {
  "kernelspec": {
   "display_name": "venv",
   "language": "python",
   "name": "python3"
  },
  "language_info": {
   "codemirror_mode": {
    "name": "ipython",
    "version": 3
   },
   "file_extension": ".py",
   "mimetype": "text/x-python",
   "name": "python",
   "nbconvert_exporter": "python",
   "pygments_lexer": "ipython3",
   "version": "3.13.0"
  }
 },
 "nbformat": 4,
 "nbformat_minor": 2
}
